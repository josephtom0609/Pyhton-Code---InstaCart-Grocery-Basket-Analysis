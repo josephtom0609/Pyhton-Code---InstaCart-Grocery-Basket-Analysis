{
 "cells": [
  {
   "cell_type": "markdown",
   "metadata": {},
   "source": [
    "# --- EXERCISE 5.9 (Part 1) - INTRO INTO DATA VIZ. WITH PYTHON ---"
   ]
  },
  {
   "cell_type": "markdown",
   "metadata": {},
   "source": [
    "## Task 3 - Importing Libraries and Customer dataset"
   ]
  },
  {
   "cell_type": "code",
   "execution_count": 1,
   "metadata": {},
   "outputs": [],
   "source": [
    "# Importing Libraries\n",
    "\n",
    "import pandas as pd\n",
    "import numpy as np\n",
    "import os"
   ]
  },
  {
   "cell_type": "code",
   "execution_count": 2,
   "metadata": {},
   "outputs": [],
   "source": [
    "# Setting up 'path' variable to import CUSTOMER dataset to Jupyter\n",
    "\n",
    "path=r'C:\\Users\\LENOVO\\Desktop\\CF - Data Analytics\\Achievement 5\\Achievement 5 - PROJECT'"
   ]
  },
  {
   "cell_type": "code",
   "execution_count": 3,
   "metadata": {},
   "outputs": [],
   "source": [
    "# Importing Customer dataset and assigning it to a dataframe\n",
    "\n",
    "df_CUSTOMER=pd.read_csv(os.path.join(path, '02 Data', 'Original Data', 'customers.csv'))"
   ]
  },
  {
   "cell_type": "code",
   "execution_count": 4,
   "metadata": {},
   "outputs": [
    {
     "data": {
      "text/html": [
       "<div>\n",
       "<style scoped>\n",
       "    .dataframe tbody tr th:only-of-type {\n",
       "        vertical-align: middle;\n",
       "    }\n",
       "\n",
       "    .dataframe tbody tr th {\n",
       "        vertical-align: top;\n",
       "    }\n",
       "\n",
       "    .dataframe thead th {\n",
       "        text-align: right;\n",
       "    }\n",
       "</style>\n",
       "<table border=\"1\" class=\"dataframe\">\n",
       "  <thead>\n",
       "    <tr style=\"text-align: right;\">\n",
       "      <th></th>\n",
       "      <th>user_id</th>\n",
       "      <th>First Name</th>\n",
       "      <th>Surnam</th>\n",
       "      <th>Gender</th>\n",
       "      <th>STATE</th>\n",
       "      <th>Age</th>\n",
       "      <th>date_joined</th>\n",
       "      <th>n_dependants</th>\n",
       "      <th>fam_status</th>\n",
       "      <th>income</th>\n",
       "    </tr>\n",
       "  </thead>\n",
       "  <tbody>\n",
       "    <tr>\n",
       "      <th>0</th>\n",
       "      <td>26711</td>\n",
       "      <td>Deborah</td>\n",
       "      <td>Esquivel</td>\n",
       "      <td>Female</td>\n",
       "      <td>Missouri</td>\n",
       "      <td>48</td>\n",
       "      <td>1/1/2017</td>\n",
       "      <td>3</td>\n",
       "      <td>married</td>\n",
       "      <td>165665</td>\n",
       "    </tr>\n",
       "    <tr>\n",
       "      <th>1</th>\n",
       "      <td>33890</td>\n",
       "      <td>Patricia</td>\n",
       "      <td>Hart</td>\n",
       "      <td>Female</td>\n",
       "      <td>New Mexico</td>\n",
       "      <td>36</td>\n",
       "      <td>1/1/2017</td>\n",
       "      <td>0</td>\n",
       "      <td>single</td>\n",
       "      <td>59285</td>\n",
       "    </tr>\n",
       "    <tr>\n",
       "      <th>2</th>\n",
       "      <td>65803</td>\n",
       "      <td>Kenneth</td>\n",
       "      <td>Farley</td>\n",
       "      <td>Male</td>\n",
       "      <td>Idaho</td>\n",
       "      <td>35</td>\n",
       "      <td>1/1/2017</td>\n",
       "      <td>2</td>\n",
       "      <td>married</td>\n",
       "      <td>99568</td>\n",
       "    </tr>\n",
       "    <tr>\n",
       "      <th>3</th>\n",
       "      <td>125935</td>\n",
       "      <td>Michelle</td>\n",
       "      <td>Hicks</td>\n",
       "      <td>Female</td>\n",
       "      <td>Iowa</td>\n",
       "      <td>40</td>\n",
       "      <td>1/1/2017</td>\n",
       "      <td>0</td>\n",
       "      <td>single</td>\n",
       "      <td>42049</td>\n",
       "    </tr>\n",
       "    <tr>\n",
       "      <th>4</th>\n",
       "      <td>130797</td>\n",
       "      <td>Ann</td>\n",
       "      <td>Gilmore</td>\n",
       "      <td>Female</td>\n",
       "      <td>Maryland</td>\n",
       "      <td>26</td>\n",
       "      <td>1/1/2017</td>\n",
       "      <td>1</td>\n",
       "      <td>married</td>\n",
       "      <td>40374</td>\n",
       "    </tr>\n",
       "  </tbody>\n",
       "</table>\n",
       "</div>"
      ],
      "text/plain": [
       "   user_id First Name    Surnam  Gender       STATE  Age date_joined  \\\n",
       "0    26711    Deborah  Esquivel  Female    Missouri   48    1/1/2017   \n",
       "1    33890   Patricia      Hart  Female  New Mexico   36    1/1/2017   \n",
       "2    65803    Kenneth    Farley    Male       Idaho   35    1/1/2017   \n",
       "3   125935   Michelle     Hicks  Female        Iowa   40    1/1/2017   \n",
       "4   130797        Ann   Gilmore  Female    Maryland   26    1/1/2017   \n",
       "\n",
       "   n_dependants fam_status  income  \n",
       "0             3    married  165665  \n",
       "1             0     single   59285  \n",
       "2             2    married   99568  \n",
       "3             0     single   42049  \n",
       "4             1    married   40374  "
      ]
     },
     "execution_count": 4,
     "metadata": {},
     "output_type": "execute_result"
    }
   ],
   "source": [
    "# Checking the first 10 rows of CUSTOMER dataframe\n",
    "\n",
    "df_CUSTOMER.head()"
   ]
  },
  {
   "cell_type": "markdown",
   "metadata": {},
   "source": [
    "## Task 4 - Data Wrangling"
   ]
  },
  {
   "cell_type": "code",
   "execution_count": 7,
   "metadata": {},
   "outputs": [
    {
     "data": {
      "text/html": [
       "<div>\n",
       "<style scoped>\n",
       "    .dataframe tbody tr th:only-of-type {\n",
       "        vertical-align: middle;\n",
       "    }\n",
       "\n",
       "    .dataframe tbody tr th {\n",
       "        vertical-align: top;\n",
       "    }\n",
       "\n",
       "    .dataframe thead th {\n",
       "        text-align: right;\n",
       "    }\n",
       "</style>\n",
       "<table border=\"1\" class=\"dataframe\">\n",
       "  <thead>\n",
       "    <tr style=\"text-align: right;\">\n",
       "      <th></th>\n",
       "      <th>user_id</th>\n",
       "      <th>Age</th>\n",
       "      <th>n_dependants</th>\n",
       "      <th>income</th>\n",
       "    </tr>\n",
       "  </thead>\n",
       "  <tbody>\n",
       "    <tr>\n",
       "      <th>count</th>\n",
       "      <td>206209.000000</td>\n",
       "      <td>206209.000000</td>\n",
       "      <td>206209.000000</td>\n",
       "      <td>206209.000000</td>\n",
       "    </tr>\n",
       "    <tr>\n",
       "      <th>mean</th>\n",
       "      <td>103105.000000</td>\n",
       "      <td>49.501646</td>\n",
       "      <td>1.499823</td>\n",
       "      <td>94632.852548</td>\n",
       "    </tr>\n",
       "    <tr>\n",
       "      <th>std</th>\n",
       "      <td>59527.555167</td>\n",
       "      <td>18.480962</td>\n",
       "      <td>1.118433</td>\n",
       "      <td>42473.786988</td>\n",
       "    </tr>\n",
       "    <tr>\n",
       "      <th>min</th>\n",
       "      <td>1.000000</td>\n",
       "      <td>18.000000</td>\n",
       "      <td>0.000000</td>\n",
       "      <td>25903.000000</td>\n",
       "    </tr>\n",
       "    <tr>\n",
       "      <th>25%</th>\n",
       "      <td>51553.000000</td>\n",
       "      <td>33.000000</td>\n",
       "      <td>0.000000</td>\n",
       "      <td>59874.000000</td>\n",
       "    </tr>\n",
       "    <tr>\n",
       "      <th>50%</th>\n",
       "      <td>103105.000000</td>\n",
       "      <td>49.000000</td>\n",
       "      <td>1.000000</td>\n",
       "      <td>93547.000000</td>\n",
       "    </tr>\n",
       "    <tr>\n",
       "      <th>75%</th>\n",
       "      <td>154657.000000</td>\n",
       "      <td>66.000000</td>\n",
       "      <td>3.000000</td>\n",
       "      <td>124244.000000</td>\n",
       "    </tr>\n",
       "    <tr>\n",
       "      <th>max</th>\n",
       "      <td>206209.000000</td>\n",
       "      <td>81.000000</td>\n",
       "      <td>3.000000</td>\n",
       "      <td>593901.000000</td>\n",
       "    </tr>\n",
       "  </tbody>\n",
       "</table>\n",
       "</div>"
      ],
      "text/plain": [
       "             user_id            Age   n_dependants         income\n",
       "count  206209.000000  206209.000000  206209.000000  206209.000000\n",
       "mean   103105.000000      49.501646       1.499823   94632.852548\n",
       "std     59527.555167      18.480962       1.118433   42473.786988\n",
       "min         1.000000      18.000000       0.000000   25903.000000\n",
       "25%     51553.000000      33.000000       0.000000   59874.000000\n",
       "50%    103105.000000      49.000000       1.000000   93547.000000\n",
       "75%    154657.000000      66.000000       3.000000  124244.000000\n",
       "max    206209.000000      81.000000       3.000000  593901.000000"
      ]
     },
     "execution_count": 7,
     "metadata": {},
     "output_type": "execute_result"
    }
   ],
   "source": [
    "# Checking the descriptive statistics of all variables in CUSTOMER dataframe\n",
    "\n",
    "df_CUSTOMER.describe()"
   ]
  },
  {
   "cell_type": "code",
   "execution_count": 25,
   "metadata": {},
   "outputs": [
    {
     "name": "stdout",
     "output_type": "stream",
     "text": [
      "<class 'pandas.core.frame.DataFrame'>\n",
      "RangeIndex: 206209 entries, 0 to 206208\n",
      "Data columns (total 9 columns):\n",
      " #   Column        Non-Null Count   Dtype   \n",
      "---  ------        --------------   -----   \n",
      " 0   user_id       206209 non-null  int32   \n",
      " 1   First Name    194950 non-null  category\n",
      " 2   Surnam        206209 non-null  category\n",
      " 3   Gender        206209 non-null  category\n",
      " 4   STATE         206209 non-null  category\n",
      " 5   Age           206209 non-null  int8    \n",
      " 6   n_dependants  206209 non-null  int8    \n",
      " 7   fam_status    206209 non-null  category\n",
      " 8   income        206209 non-null  int32   \n",
      "dtypes: category(5), int32(2), int8(2)\n",
      "memory usage: 3.4 MB\n"
     ]
    }
   ],
   "source": [
    "# Check some more information about CUSTOMER dataframe\n",
    "\n",
    "df_CUSTOMER.info()"
   ]
  },
  {
   "cell_type": "code",
   "execution_count": 24,
   "metadata": {},
   "outputs": [],
   "source": [
    "# Converting datatypes of all variables in Customer dataframe\n",
    "\n",
    "#df_CUSTOMER['user_id'] = df_CUSTOMER['user_id'].astype('int32')\n",
    "\n",
    "#df_CUSTOMER['Age'] = df_CUSTOMER['Age'].astype('int8')\n",
    "\n",
    "#df_CUSTOMER['n_dependants'] = df_CUSTOMER['n_dependants'].astype('int8')\n",
    "\n",
    "df_CUSTOMER['income'] = df_CUSTOMER['income'].astype('int32')\n",
    "\n",
    "#df_CUSTOMER['fam_status'] = df_CUSTOMER['fam_status'].astype('category')\n",
    "\n",
    "#df_CUSTOMER['STATE'] = df_CUSTOMER['STATE'].astype('category')\n",
    "\n",
    "#df_CUSTOMER['Gender'] = df_CUSTOMER['Gender'].astype('category')\n",
    "\n",
    "#df_CUSTOMER['Surnam'] = df_CUSTOMER['Surnam'].astype('category')\n",
    "\n",
    "#df_CUSTOMER['First Name'] = df_CUSTOMER['First Name'].astype('category')"
   ]
  },
  {
   "cell_type": "code",
   "execution_count": 26,
   "metadata": {},
   "outputs": [
    {
     "data": {
      "text/plain": [
       "user_id            int32\n",
       "First Name      category\n",
       "Surnam          category\n",
       "Gender          category\n",
       "STATE           category\n",
       "Age                 int8\n",
       "n_dependants        int8\n",
       "fam_status      category\n",
       "income             int32\n",
       "dtype: object"
      ]
     },
     "execution_count": 26,
     "metadata": {},
     "output_type": "execute_result"
    }
   ],
   "source": [
    "# Checking the datatypes of all variables in the CUSTOMER dataframe - after converting datatypes\n",
    "\n",
    "df_CUSTOMER.dtypes"
   ]
  },
  {
   "cell_type": "code",
   "execution_count": 27,
   "metadata": {},
   "outputs": [
    {
     "data": {
      "text/plain": [
       "(206209, 9)"
      ]
     },
     "execution_count": 27,
     "metadata": {},
     "output_type": "execute_result"
    }
   ],
   "source": [
    "# Check the number of rows and columns in CUSTOMER dataframe\n",
    "\n",
    "df_CUSTOMER.shape"
   ]
  },
  {
   "cell_type": "code",
   "execution_count": 16,
   "metadata": {},
   "outputs": [],
   "source": [
    "# Dropping column that will not be needed\n",
    "\n",
    "df_CUSTOMER=df_CUSTOMER.drop(columns=['date_joined'])"
   ]
  },
  {
   "cell_type": "code",
   "execution_count": 28,
   "metadata": {},
   "outputs": [],
   "source": [
    "# Renaming column name from 'Surnam' to 'Surname'\n",
    "# Renaming column name from 'n_dependants' to 'number_of_dependants'\n",
    "# Renaming column name from 'fam_status' to 'family_status'\n",
    "# Renaming column name from 'STATE' to 'State'\n",
    "\n",
    "\n",
    "df_CUSTOMER.rename(columns={'Surnam':'Surname', 'n_dependants':'number_of_dependants', 'fam_status':'family_status', 'STATE':'State'}, inplace=True)"
   ]
  },
  {
   "cell_type": "code",
   "execution_count": 29,
   "metadata": {},
   "outputs": [
    {
     "data": {
      "text/plain": [
       "user_id                    int32\n",
       "First Name              category\n",
       "Surname                 category\n",
       "Gender                  category\n",
       "State                   category\n",
       "Age                         int8\n",
       "number_of_dependants        int8\n",
       "family_status           category\n",
       "income                     int32\n",
       "dtype: object"
      ]
     },
     "execution_count": 29,
     "metadata": {},
     "output_type": "execute_result"
    }
   ],
   "source": [
    "# Checking the datatypes of all variables in the CUSTOMER dataframe - after renaming columns\n",
    "\n",
    "df_CUSTOMER.dtypes"
   ]
  },
  {
   "cell_type": "markdown",
   "metadata": {},
   "source": [
    "## Task 5 - Data Consistency Checks"
   ]
  },
  {
   "cell_type": "code",
   "execution_count": 30,
   "metadata": {},
   "outputs": [
    {
     "name": "stdout",
     "output_type": "stream",
     "text": [
      "First Name\n"
     ]
    }
   ],
   "source": [
    "# Checking for mixed datatype\n",
    "\n",
    "for col in df_CUSTOMER.columns.tolist():    \n",
    "    weird=(df_CUSTOMER[[col]].applymap(type) != df_CUSTOMER[[col]].iloc[0].apply(type)).any(axis=1)\n",
    "    if len(df_CUSTOMER[weird]) > 0:\n",
    "        print(col)"
   ]
  },
  {
   "cell_type": "code",
   "execution_count": 31,
   "metadata": {},
   "outputs": [],
   "source": [
    "# Changing datatype of column 'First Name' to string\n",
    "\n",
    "df_CUSTOMER['First Name']=df_CUSTOMER['First Name'].astype(str)"
   ]
  },
  {
   "cell_type": "code",
   "execution_count": 32,
   "metadata": {},
   "outputs": [],
   "source": [
    "# Checking again for mixed datatype - Columns having mixed datatypes have been fixed\n",
    "\n",
    "for col in df_CUSTOMER.columns.tolist():    \n",
    "    weird=(df_CUSTOMER[[col]].applymap(type) != df_CUSTOMER[[col]].iloc[0].apply(type)).any(axis=1)\n",
    "    if len(df_CUSTOMER[weird]) > 0:\n",
    "        print(col)"
   ]
  },
  {
   "cell_type": "code",
   "execution_count": 33,
   "metadata": {},
   "outputs": [
    {
     "data": {
      "text/plain": [
       "user_id                 0\n",
       "First Name              0\n",
       "Surname                 0\n",
       "Gender                  0\n",
       "State                   0\n",
       "Age                     0\n",
       "number_of_dependants    0\n",
       "family_status           0\n",
       "income                  0\n",
       "dtype: int64"
      ]
     },
     "execution_count": 33,
     "metadata": {},
     "output_type": "execute_result"
    }
   ],
   "source": [
    "# Checking for Missing Values - No missing values have been found\n",
    "\n",
    "df_CUSTOMER.isnull().sum()"
   ]
  },
  {
   "cell_type": "code",
   "execution_count": 34,
   "metadata": {},
   "outputs": [],
   "source": [
    "# Checking for Duplicate Values by assigning a dataframe to capture duplicate data\n",
    "\n",
    "df_dups=df_CUSTOMER[df_CUSTOMER.duplicated()]"
   ]
  },
  {
   "cell_type": "code",
   "execution_count": 35,
   "metadata": {},
   "outputs": [
    {
     "data": {
      "text/html": [
       "<div>\n",
       "<style scoped>\n",
       "    .dataframe tbody tr th:only-of-type {\n",
       "        vertical-align: middle;\n",
       "    }\n",
       "\n",
       "    .dataframe tbody tr th {\n",
       "        vertical-align: top;\n",
       "    }\n",
       "\n",
       "    .dataframe thead th {\n",
       "        text-align: right;\n",
       "    }\n",
       "</style>\n",
       "<table border=\"1\" class=\"dataframe\">\n",
       "  <thead>\n",
       "    <tr style=\"text-align: right;\">\n",
       "      <th></th>\n",
       "      <th>user_id</th>\n",
       "      <th>First Name</th>\n",
       "      <th>Surname</th>\n",
       "      <th>Gender</th>\n",
       "      <th>State</th>\n",
       "      <th>Age</th>\n",
       "      <th>number_of_dependants</th>\n",
       "      <th>family_status</th>\n",
       "      <th>income</th>\n",
       "    </tr>\n",
       "  </thead>\n",
       "  <tbody>\n",
       "  </tbody>\n",
       "</table>\n",
       "</div>"
      ],
      "text/plain": [
       "Empty DataFrame\n",
       "Columns: [user_id, First Name, Surname, Gender, State, Age, number_of_dependants, family_status, income]\n",
       "Index: []"
      ]
     },
     "execution_count": 35,
     "metadata": {},
     "output_type": "execute_result"
    }
   ],
   "source": [
    "df_dups\n",
    "\n",
    "# NO DUPLICATE DATA HAS BEEN FOUND"
   ]
  },
  {
   "cell_type": "markdown",
   "metadata": {},
   "source": [
    "## Task 6 - Data Merging"
   ]
  },
  {
   "cell_type": "code",
   "execution_count": 37,
   "metadata": {},
   "outputs": [],
   "source": [
    "df_ORDS_PRODS=pd.read_pickle(os.path.join(path, '02 Data', 'Prepared Data', 'orders_products_newflags.pkl'))\n",
    "\n",
    "# Importing the merged Orders and Products dataset"
   ]
  },
  {
   "cell_type": "code",
   "execution_count": 38,
   "metadata": {},
   "outputs": [
    {
     "data": {
      "text/html": [
       "<div>\n",
       "<style scoped>\n",
       "    .dataframe tbody tr th:only-of-type {\n",
       "        vertical-align: middle;\n",
       "    }\n",
       "\n",
       "    .dataframe tbody tr th {\n",
       "        vertical-align: top;\n",
       "    }\n",
       "\n",
       "    .dataframe thead th {\n",
       "        text-align: right;\n",
       "    }\n",
       "</style>\n",
       "<table border=\"1\" class=\"dataframe\">\n",
       "  <thead>\n",
       "    <tr style=\"text-align: right;\">\n",
       "      <th></th>\n",
       "      <th>order_id</th>\n",
       "      <th>user_id</th>\n",
       "      <th>order_number</th>\n",
       "      <th>orders_day_of_week</th>\n",
       "      <th>ordered_hour</th>\n",
       "      <th>days_since_prior_order</th>\n",
       "      <th>product_id</th>\n",
       "      <th>add_to_cart_order</th>\n",
       "      <th>reordered</th>\n",
       "      <th>product_name</th>\n",
       "      <th>...</th>\n",
       "      <th>price_range_loc</th>\n",
       "      <th>Busiest Day</th>\n",
       "      <th>Busiest DAYS</th>\n",
       "      <th>Busiest_Period_of_Day</th>\n",
       "      <th>Max_Order</th>\n",
       "      <th>loyalty_flag</th>\n",
       "      <th>Average_Spend</th>\n",
       "      <th>Spend_Flag</th>\n",
       "      <th>Visit_Frequency</th>\n",
       "      <th>Frequency_Flag</th>\n",
       "    </tr>\n",
       "  </thead>\n",
       "  <tbody>\n",
       "    <tr>\n",
       "      <th>0</th>\n",
       "      <td>2539329</td>\n",
       "      <td>1</td>\n",
       "      <td>1</td>\n",
       "      <td>2</td>\n",
       "      <td>8</td>\n",
       "      <td>0.0</td>\n",
       "      <td>-60</td>\n",
       "      <td>1</td>\n",
       "      <td>0</td>\n",
       "      <td>Soda</td>\n",
       "      <td>...</td>\n",
       "      <td>Mid-range Product</td>\n",
       "      <td>Regularly busy</td>\n",
       "      <td>Regular Days</td>\n",
       "      <td>Average Orders</td>\n",
       "      <td>10</td>\n",
       "      <td>New customer</td>\n",
       "      <td>6.367188</td>\n",
       "      <td>Low Spender</td>\n",
       "      <td>20.0</td>\n",
       "      <td>Regular Customer</td>\n",
       "    </tr>\n",
       "    <tr>\n",
       "      <th>1</th>\n",
       "      <td>2398795</td>\n",
       "      <td>1</td>\n",
       "      <td>2</td>\n",
       "      <td>3</td>\n",
       "      <td>7</td>\n",
       "      <td>15.0</td>\n",
       "      <td>-60</td>\n",
       "      <td>1</td>\n",
       "      <td>1</td>\n",
       "      <td>Soda</td>\n",
       "      <td>...</td>\n",
       "      <td>Mid-range Product</td>\n",
       "      <td>Regularly busy</td>\n",
       "      <td>Slow Days</td>\n",
       "      <td>Average Orders</td>\n",
       "      <td>10</td>\n",
       "      <td>New customer</td>\n",
       "      <td>6.367188</td>\n",
       "      <td>Low Spender</td>\n",
       "      <td>20.0</td>\n",
       "      <td>Regular Customer</td>\n",
       "    </tr>\n",
       "    <tr>\n",
       "      <th>2</th>\n",
       "      <td>473747</td>\n",
       "      <td>1</td>\n",
       "      <td>3</td>\n",
       "      <td>3</td>\n",
       "      <td>12</td>\n",
       "      <td>21.0</td>\n",
       "      <td>-60</td>\n",
       "      <td>1</td>\n",
       "      <td>1</td>\n",
       "      <td>Soda</td>\n",
       "      <td>...</td>\n",
       "      <td>Mid-range Product</td>\n",
       "      <td>Regularly busy</td>\n",
       "      <td>Slow Days</td>\n",
       "      <td>Most Orders</td>\n",
       "      <td>10</td>\n",
       "      <td>New customer</td>\n",
       "      <td>6.367188</td>\n",
       "      <td>Low Spender</td>\n",
       "      <td>20.0</td>\n",
       "      <td>Regular Customer</td>\n",
       "    </tr>\n",
       "    <tr>\n",
       "      <th>3</th>\n",
       "      <td>2254736</td>\n",
       "      <td>1</td>\n",
       "      <td>4</td>\n",
       "      <td>4</td>\n",
       "      <td>7</td>\n",
       "      <td>29.0</td>\n",
       "      <td>-60</td>\n",
       "      <td>1</td>\n",
       "      <td>1</td>\n",
       "      <td>Soda</td>\n",
       "      <td>...</td>\n",
       "      <td>Mid-range Product</td>\n",
       "      <td>Least busy</td>\n",
       "      <td>Slow Days</td>\n",
       "      <td>Average Orders</td>\n",
       "      <td>10</td>\n",
       "      <td>New customer</td>\n",
       "      <td>6.367188</td>\n",
       "      <td>Low Spender</td>\n",
       "      <td>20.0</td>\n",
       "      <td>Regular Customer</td>\n",
       "    </tr>\n",
       "    <tr>\n",
       "      <th>4</th>\n",
       "      <td>431534</td>\n",
       "      <td>1</td>\n",
       "      <td>5</td>\n",
       "      <td>4</td>\n",
       "      <td>15</td>\n",
       "      <td>28.0</td>\n",
       "      <td>-60</td>\n",
       "      <td>1</td>\n",
       "      <td>1</td>\n",
       "      <td>Soda</td>\n",
       "      <td>...</td>\n",
       "      <td>Mid-range Product</td>\n",
       "      <td>Least busy</td>\n",
       "      <td>Slow Days</td>\n",
       "      <td>Most Orders</td>\n",
       "      <td>10</td>\n",
       "      <td>New customer</td>\n",
       "      <td>6.367188</td>\n",
       "      <td>Low Spender</td>\n",
       "      <td>20.0</td>\n",
       "      <td>Regular Customer</td>\n",
       "    </tr>\n",
       "  </tbody>\n",
       "</table>\n",
       "<p>5 rows × 23 columns</p>\n",
       "</div>"
      ],
      "text/plain": [
       "   order_id  user_id  order_number  orders_day_of_week  ordered_hour  \\\n",
       "0   2539329        1             1                   2             8   \n",
       "1   2398795        1             2                   3             7   \n",
       "2    473747        1             3                   3            12   \n",
       "3   2254736        1             4                   4             7   \n",
       "4    431534        1             5                   4            15   \n",
       "\n",
       "   days_since_prior_order  product_id  add_to_cart_order  reordered  \\\n",
       "0                     0.0         -60                  1          0   \n",
       "1                    15.0         -60                  1          1   \n",
       "2                    21.0         -60                  1          1   \n",
       "3                    29.0         -60                  1          1   \n",
       "4                    28.0         -60                  1          1   \n",
       "\n",
       "  product_name  ...    price_range_loc     Busiest Day  Busiest DAYS  \\\n",
       "0         Soda  ...  Mid-range Product  Regularly busy  Regular Days   \n",
       "1         Soda  ...  Mid-range Product  Regularly busy     Slow Days   \n",
       "2         Soda  ...  Mid-range Product  Regularly busy     Slow Days   \n",
       "3         Soda  ...  Mid-range Product      Least busy     Slow Days   \n",
       "4         Soda  ...  Mid-range Product      Least busy     Slow Days   \n",
       "\n",
       "  Busiest_Period_of_Day Max_Order  loyalty_flag Average_Spend   Spend_Flag  \\\n",
       "0        Average Orders        10  New customer      6.367188  Low Spender   \n",
       "1        Average Orders        10  New customer      6.367188  Low Spender   \n",
       "2           Most Orders        10  New customer      6.367188  Low Spender   \n",
       "3        Average Orders        10  New customer      6.367188  Low Spender   \n",
       "4           Most Orders        10  New customer      6.367188  Low Spender   \n",
       "\n",
       "  Visit_Frequency    Frequency_Flag  \n",
       "0            20.0  Regular Customer  \n",
       "1            20.0  Regular Customer  \n",
       "2            20.0  Regular Customer  \n",
       "3            20.0  Regular Customer  \n",
       "4            20.0  Regular Customer  \n",
       "\n",
       "[5 rows x 23 columns]"
      ]
     },
     "execution_count": 38,
     "metadata": {},
     "output_type": "execute_result"
    }
   ],
   "source": [
    "df_ORDS_PRODS.head()"
   ]
  },
  {
   "cell_type": "code",
   "execution_count": 48,
   "metadata": {},
   "outputs": [],
   "source": [
    "# Converting datatypes of all variables having OBJECT datatype to CATEGORY datatype\n",
    "\n",
    "#df_ORDS_PRODS['product_name'] = df_ORDS_PRODS['product_name'].astype('category')\n",
    "\n",
    "#df_ORDS_PRODS['price_range_loc'] = df_ORDS_PRODS['price_range_loc'].astype('category')\n",
    "\n",
    "#df_ORDS_PRODS['Busiest Day'] = df_ORDS_PRODS['Busiest Day'].astype('category')\n",
    "\n",
    "#df_ORDS_PRODS['Busiest DAYS'] = df_ORDS_PRODS['Busiest DAYS'].astype('category')\n",
    "\n",
    "#df_ORDS_PRODS['Busiest_Period_of_Day'] = df_ORDS_PRODS['Busiest_Period_of_Day'].astype('category')\n",
    "\n",
    "#df_ORDS_PRODS['loyalty_flag'] = df_ORDS_PRODS['loyalty_flag'].astype('category')\n",
    "\n",
    "#df_ORDS_PRODS['Spend_Flag'] = df_ORDS_PRODS['Spend_Flag'].astype('category')\n",
    "\n",
    "df_ORDS_PRODS['Frequency_Flag'] = df_ORDS_PRODS['Frequency_Flag'].astype('category')"
   ]
  },
  {
   "cell_type": "code",
   "execution_count": 51,
   "metadata": {},
   "outputs": [
    {
     "data": {
      "text/plain": [
       "user_id                      int32\n",
       "order_number                 int16\n",
       "orders_day_of_week            int8\n",
       "ordered_hour                  int8\n",
       "days_since_prior_order     float16\n",
       "product_id                    int8\n",
       "add_to_cart_order             int8\n",
       "reordered                     int8\n",
       "product_name              category\n",
       "aisle_id                      int8\n",
       "department_id                 int8\n",
       "prices                     float16\n",
       "price_range_loc           category\n",
       "Busiest Day               category\n",
       "Busiest DAYS              category\n",
       "Busiest_Period_of_Day     category\n",
       "Max_Order                    int16\n",
       "loyalty_flag              category\n",
       "Average_Spend              float16\n",
       "Spend_Flag                category\n",
       "Visit_Frequency            float16\n",
       "Frequency_Flag            category\n",
       "dtype: object"
      ]
     },
     "execution_count": 51,
     "metadata": {},
     "output_type": "execute_result"
    }
   ],
   "source": [
    "df_ORDS_PRODS.dtypes"
   ]
  },
  {
   "cell_type": "code",
   "execution_count": 57,
   "metadata": {},
   "outputs": [
    {
     "data": {
      "text/plain": [
       "user_id                    int32\n",
       "First Name                object\n",
       "Surname                 category\n",
       "Gender                  category\n",
       "State                   category\n",
       "Age                         int8\n",
       "number_of_dependants        int8\n",
       "family_status           category\n",
       "income                     int32\n",
       "dtype: object"
      ]
     },
     "execution_count": 57,
     "metadata": {},
     "output_type": "execute_result"
    }
   ],
   "source": [
    "df_CUSTOMER.dtypes"
   ]
  },
  {
   "cell_type": "code",
   "execution_count": 50,
   "metadata": {},
   "outputs": [],
   "source": [
    "# Dropping column that will not be needed\n",
    "\n",
    "df_ORDS_PRODS=df_ORDS_PRODS.drop(columns=['order_id'])"
   ]
  },
  {
   "cell_type": "code",
   "execution_count": 52,
   "metadata": {},
   "outputs": [],
   "source": [
    "df_ORDS_PRODS_CUST=df_CUSTOMER.merge(df_ORDS_PRODS, on='user_id')\n",
    "\n",
    "# Merging CUSTOMER dataframe with MERGED ORDERS-PRODUCTS dataframe"
   ]
  },
  {
   "cell_type": "code",
   "execution_count": 54,
   "metadata": {},
   "outputs": [
    {
     "data": {
      "text/plain": [
       "(32404859, 30)"
      ]
     },
     "execution_count": 54,
     "metadata": {},
     "output_type": "execute_result"
    }
   ],
   "source": [
    "df_ORDS_PRODS_CUST.shape\n",
    "\n",
    "# Checking the number of rows and columns for the new dataframe - ORDS_PRODS_CUST"
   ]
  },
  {
   "cell_type": "markdown",
   "metadata": {},
   "source": [
    "## Task 8 - Exporting the new dataframe in pickle format"
   ]
  },
  {
   "cell_type": "code",
   "execution_count": 58,
   "metadata": {},
   "outputs": [],
   "source": [
    "df_ORDS_PRODS_CUST.to_pickle(os.path.join(path, '02 Data' ,'Prepared Data', 'orders_products_customers.pkl'))\n",
    "\n",
    "# Exporting new dataset in pickle format to local folder"
   ]
  }
 ],
 "metadata": {
  "kernelspec": {
   "display_name": "Python 3",
   "language": "python",
   "name": "python3"
  },
  "language_info": {
   "codemirror_mode": {
    "name": "ipython",
    "version": 3
   },
   "file_extension": ".py",
   "mimetype": "text/x-python",
   "name": "python",
   "nbconvert_exporter": "python",
   "pygments_lexer": "ipython3",
   "version": "3.8.5"
  }
 },
 "nbformat": 4,
 "nbformat_minor": 4
}
